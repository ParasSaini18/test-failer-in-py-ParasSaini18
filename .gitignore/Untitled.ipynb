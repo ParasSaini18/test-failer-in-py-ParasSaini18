{
 "cells": [
  {
   "cell_type": "code",
   "execution_count": 1,
   "id": "e37b3155",
   "metadata": {},
   "outputs": [],
   "source": [
    "import alerter\n"
   ]
  },
  {
   "cell_type": "code",
   "execution_count": 2,
   "id": "ad0cd504",
   "metadata": {},
   "outputs": [
    {
     "name": "stdout",
     "output_type": "stream",
     "text": [
      "All is well (maybe!)\n",
      "\n"
     ]
    }
   ],
   "source": [
    "def test_alert_in_celcius():\n",
    "    alerter.alert_in_celcius(0, 303.6)\n",
    "    assert(alerter.alert_failure_count == 0)\n",
    "    alerter.alert_in_celcius(0, 450)\n",
    "    assert(alerter.alert_failure_count == 1)\n",
    "    alerter.alert_in_celcius(0, 100)\n",
    "    assert(alerter.alert_failure_count == 1)\n",
    "    alerter.alert_in_celcius(0, 500)\n",
    "    assert(alerter.alert_failure_count == 2)\n",
    "    \n",
    "if __name__ == '__main__':\n",
    "    test_alert_in_celcius()\n",
    "\n",
    "print(\"All is well (maybe!)\\n\")"
   ]
  },
  {
   "cell_type": "code",
   "execution_count": null,
   "id": "7129ced1",
   "metadata": {},
   "outputs": [],
   "source": []
  }
 ],
 "metadata": {
  "kernelspec": {
   "display_name": "Python 3 (ipykernel)",
   "language": "python",
   "name": "python3"
  },
  "language_info": {
   "codemirror_mode": {
    "name": "ipython",
    "version": 3
   },
   "file_extension": ".py",
   "mimetype": "text/x-python",
   "name": "python",
   "nbconvert_exporter": "python",
   "pygments_lexer": "ipython3",
   "version": "3.9.7"
  }
 },
 "nbformat": 4,
 "nbformat_minor": 5
}
